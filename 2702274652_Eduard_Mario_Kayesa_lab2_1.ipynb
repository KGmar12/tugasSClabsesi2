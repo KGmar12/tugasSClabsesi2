{
  "nbformat": 4,
  "nbformat_minor": 0,
  "metadata": {
    "colab": {
      "provenance": []
    },
    "kernelspec": {
      "name": "python3",
      "display_name": "Python 3"
    },
    "language_info": {
      "name": "python"
    }
  },
  "cells": [
    {
      "cell_type": "code",
      "execution_count": null,
      "metadata": {
        "colab": {
          "base_uri": "https://localhost:8080/"
        },
        "id": "x_Kbdsl1SPt4",
        "outputId": "e71f70f0-f695-4295-d6b1-32b5c19102c9"
      },
      "outputs": [
        {
          "output_type": "stream",
          "name": "stdout",
          "text": [
            "matrix is diagonally dominant\n"
          ]
        }
      ],
      "source": [
        "import numpy as np\n",
        "\n",
        "a=[[12,-2,3,1],[-2,15,6,-3],[1,6,20,-4],[0,-3,2,9]]\n",
        "\n",
        "#find diagonal coefficients\n",
        "\n",
        "diag = np.diag(np.abs(a))\n",
        "\n",
        "#find row sum without diagonal\n",
        "\n",
        "off_diag = np.sum(np.abs(a), axis = 1) - diag\n",
        "\n",
        "if np.all(diag > off_diag):\n",
        "  print(\"matrix is diagonally dominant\")\n",
        "else:\n",
        "  print(\"NOT diagonally dominant\")"
      ]
    },
    {
      "cell_type": "code",
      "source": [
        "x1 = 0\n",
        "x2 = 0\n",
        "x3 = 0\n",
        "x4 = 0\n",
        "epsilon = 0.01\n",
        "converged = False\n",
        "\n",
        "x_old = np.array([x1,x2,x3,x4])\n",
        "\n"
      ],
      "metadata": {
        "id": "jGajl_3ITAWL"
      },
      "execution_count": null,
      "outputs": []
    },
    {
      "cell_type": "code",
      "source": [
        "print(\"Iteration Result\")\n",
        "print(\"k,    x1,     x2,     x3,     x4 \")\n",
        "for k in range(1, 50):\n",
        "  x1 = (0+2*x2-3*x3-x4)/(12)\n",
        "  x2 = (0+2*x1-6*x3+3*x4)/15\n",
        "  x3 = (20-x1-6*x2+4*x4)/(20)\n",
        "  x4 = (0+0+3*x2-2*x3)/9\n",
        "  x = np.array([x1, x2, x3, x4])\n",
        "  # check if it is smaller than threshold\n",
        "  dx = np.sqrt(np.dot(x-x_old, x-x_old))\n",
        "\n",
        "  print(\"%d, %.4f, %.4f, %.4f, %.4f\"%(k, x1, x2, x3, x4))\n",
        "  if dx < epsilon:\n",
        "    converged = True\n",
        "    print(\"converged!\")\n",
        "    break\n",
        "\n",
        "  # assign the latest x value to the old value\n",
        "  x_old = x\n",
        "\n",
        "if not converged:\n",
        "  print(\"Not converge, increase the # of iteration\")"
      ],
      "metadata": {
        "colab": {
          "base_uri": "https://localhost:8080/"
        },
        "id": "__IhfsmOUH3q",
        "outputId": "b08675bf-3572-4623-def2-a7fae231e215"
      },
      "execution_count": null,
      "outputs": [
        {
          "output_type": "stream",
          "name": "stdout",
          "text": [
            "Iteration Result\n",
            "k,    x1,     x2,     x3,     x4 \n",
            "1, 0.0000, 0.0000, 1.0000, -0.2222\n",
            "2, -0.2315, -0.4753, 1.1097, -0.4050\n",
            "3, -0.3229, -0.5679, 1.1055, -0.4350\n",
            "4, -0.3348, -0.5738, 1.1019, -0.4361\n",
            "5, -0.3348, -0.5726, 1.1013, -0.4356\n",
            "converged!\n"
          ]
        }
      ]
    },
    {
      "cell_type": "code",
      "source": [],
      "metadata": {
        "id": "2zkjbB9saUaF"
      },
      "execution_count": null,
      "outputs": []
    },
    {
      "cell_type": "markdown",
      "source": [
        "# New Section"
      ],
      "metadata": {
        "id": "OzpI5DYoaWx8"
      }
    },
    {
      "cell_type": "code",
      "source": [],
      "metadata": {
        "id": "zJOI8xK1VunT"
      },
      "execution_count": null,
      "outputs": []
    }
  ]
}